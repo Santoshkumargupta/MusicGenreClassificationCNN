{
 "cells": [
  {
   "cell_type": "code",
   "execution_count": 1,
   "id": "ac4dc938-f9ab-4a04-a13d-4f71cfcbf5ec",
   "metadata": {},
   "outputs": [
    {
     "name": "stdout",
     "output_type": "stream",
     "text": [
      "WARNING:tensorflow:From C:\\Users\\santo\\anaconda3\\Lib\\site-packages\\keras\\src\\losses.py:2976: The name tf.losses.sparse_softmax_cross_entropy is deprecated. Please use tf.compat.v1.losses.sparse_softmax_cross_entropy instead.\n",
      "\n"
     ]
    }
   ],
   "source": [
    "import numpy as np1\n",
    "import matplotlib.pyplot as plt\n",
    "import seaborn as sns\n",
    "import librosa as lb\n",
    "import librosa.display\n",
    "import os\n",
    "\n",
    "import IPython\n",
    "import IPython.display as ipd\n",
    "\n",
    "import tensorflow as tf\n",
    "from tensorflow import keras\n",
    "from tensorflow.keras import layers, models, optimizers, losses, regularizers\n",
    "from tensorflow.keras.layers.experimental import preprocessing\n",
    "\n",
    "from sklearn.model_selection import train_test_split\n",
    "from sklearn.preprocessing import normalize\n",
    "import visualkeras\n",
    "import pandas as pd"
   ]
  },
  {
   "cell_type": "code",
   "execution_count": 2,
   "id": "26688bd2-5b1a-4264-b93c-f9ad456c3296",
   "metadata": {},
   "outputs": [
    {
     "name": "stdout",
     "output_type": "stream",
     "text": [
      "1.24.3\n"
     ]
    }
   ],
   "source": [
    " print(np1.__version__)"
   ]
  },
  {
   "cell_type": "code",
   "execution_count": 3,
   "id": "1c93e5c0-e722-4b6c-86df-aa419641a372",
   "metadata": {},
   "outputs": [
    {
     "name": "stdout",
     "output_type": "stream",
     "text": [
      "Num GPUs Available:  0\n"
     ]
    }
   ],
   "source": [
    "print(\"Num GPUs Available: \", len(tf.config.list_physical_devices('GPU')))"
   ]
  },
  {
   "cell_type": "code",
   "execution_count": 4,
   "id": "faaee0f5-a1d8-4cb5-bee8-6994efe5aeee",
   "metadata": {},
   "outputs": [],
   "source": [
    "os.environ['TF_CPP_MIN_LOG_LEVEL'] = '2'\n"
   ]
  },
  {
   "cell_type": "code",
   "execution_count": 5,
   "id": "d5581f74-6cba-4ce9-a22e-24ef78422586",
   "metadata": {},
   "outputs": [
    {
     "data": {
      "text/html": [
       "<div>\n",
       "<style scoped>\n",
       "    .dataframe tbody tr th:only-of-type {\n",
       "        vertical-align: middle;\n",
       "    }\n",
       "\n",
       "    .dataframe tbody tr th {\n",
       "        vertical-align: top;\n",
       "    }\n",
       "\n",
       "    .dataframe thead th {\n",
       "        text-align: right;\n",
       "    }\n",
       "</style>\n",
       "<table border=\"1\" class=\"dataframe\">\n",
       "  <thead>\n",
       "    <tr style=\"text-align: right;\">\n",
       "      <th></th>\n",
       "      <th>filename</th>\n",
       "      <th>length</th>\n",
       "      <th>chroma_stft_mean</th>\n",
       "      <th>chroma_stft_var</th>\n",
       "      <th>rms_mean</th>\n",
       "      <th>rms_var</th>\n",
       "      <th>spectral_centroid_mean</th>\n",
       "      <th>spectral_centroid_var</th>\n",
       "      <th>spectral_bandwidth_mean</th>\n",
       "      <th>spectral_bandwidth_var</th>\n",
       "      <th>...</th>\n",
       "      <th>mfcc16_var</th>\n",
       "      <th>mfcc17_mean</th>\n",
       "      <th>mfcc17_var</th>\n",
       "      <th>mfcc18_mean</th>\n",
       "      <th>mfcc18_var</th>\n",
       "      <th>mfcc19_mean</th>\n",
       "      <th>mfcc19_var</th>\n",
       "      <th>mfcc20_mean</th>\n",
       "      <th>mfcc20_var</th>\n",
       "      <th>label</th>\n",
       "    </tr>\n",
       "  </thead>\n",
       "  <tbody>\n",
       "    <tr>\n",
       "      <th>0</th>\n",
       "      <td>blues.00000.0.wav</td>\n",
       "      <td>66149</td>\n",
       "      <td>0.335406</td>\n",
       "      <td>0.091048</td>\n",
       "      <td>0.130405</td>\n",
       "      <td>0.003521</td>\n",
       "      <td>1773.065032</td>\n",
       "      <td>167541.630869</td>\n",
       "      <td>1972.744388</td>\n",
       "      <td>117335.771563</td>\n",
       "      <td>...</td>\n",
       "      <td>39.687145</td>\n",
       "      <td>-3.241280</td>\n",
       "      <td>36.488243</td>\n",
       "      <td>0.722209</td>\n",
       "      <td>38.099152</td>\n",
       "      <td>-5.050335</td>\n",
       "      <td>33.618073</td>\n",
       "      <td>-0.243027</td>\n",
       "      <td>43.771767</td>\n",
       "      <td>blues</td>\n",
       "    </tr>\n",
       "    <tr>\n",
       "      <th>1</th>\n",
       "      <td>blues.00000.1.wav</td>\n",
       "      <td>66149</td>\n",
       "      <td>0.343065</td>\n",
       "      <td>0.086147</td>\n",
       "      <td>0.112699</td>\n",
       "      <td>0.001450</td>\n",
       "      <td>1816.693777</td>\n",
       "      <td>90525.690866</td>\n",
       "      <td>2010.051501</td>\n",
       "      <td>65671.875673</td>\n",
       "      <td>...</td>\n",
       "      <td>64.748276</td>\n",
       "      <td>-6.055294</td>\n",
       "      <td>40.677654</td>\n",
       "      <td>0.159015</td>\n",
       "      <td>51.264091</td>\n",
       "      <td>-2.837699</td>\n",
       "      <td>97.030830</td>\n",
       "      <td>5.784063</td>\n",
       "      <td>59.943081</td>\n",
       "      <td>blues</td>\n",
       "    </tr>\n",
       "    <tr>\n",
       "      <th>2</th>\n",
       "      <td>blues.00000.2.wav</td>\n",
       "      <td>66149</td>\n",
       "      <td>0.346815</td>\n",
       "      <td>0.092243</td>\n",
       "      <td>0.132003</td>\n",
       "      <td>0.004620</td>\n",
       "      <td>1788.539719</td>\n",
       "      <td>111407.437613</td>\n",
       "      <td>2084.565132</td>\n",
       "      <td>75124.921716</td>\n",
       "      <td>...</td>\n",
       "      <td>67.336563</td>\n",
       "      <td>-1.768610</td>\n",
       "      <td>28.348579</td>\n",
       "      <td>2.378768</td>\n",
       "      <td>45.717648</td>\n",
       "      <td>-1.938424</td>\n",
       "      <td>53.050835</td>\n",
       "      <td>2.517375</td>\n",
       "      <td>33.105122</td>\n",
       "      <td>blues</td>\n",
       "    </tr>\n",
       "    <tr>\n",
       "      <th>3</th>\n",
       "      <td>blues.00000.3.wav</td>\n",
       "      <td>66149</td>\n",
       "      <td>0.363639</td>\n",
       "      <td>0.086856</td>\n",
       "      <td>0.132565</td>\n",
       "      <td>0.002448</td>\n",
       "      <td>1655.289045</td>\n",
       "      <td>111952.284517</td>\n",
       "      <td>1960.039988</td>\n",
       "      <td>82913.639269</td>\n",
       "      <td>...</td>\n",
       "      <td>47.739452</td>\n",
       "      <td>-3.841155</td>\n",
       "      <td>28.337118</td>\n",
       "      <td>1.218588</td>\n",
       "      <td>34.770935</td>\n",
       "      <td>-3.580352</td>\n",
       "      <td>50.836224</td>\n",
       "      <td>3.630866</td>\n",
       "      <td>32.023678</td>\n",
       "      <td>blues</td>\n",
       "    </tr>\n",
       "    <tr>\n",
       "      <th>4</th>\n",
       "      <td>blues.00000.4.wav</td>\n",
       "      <td>66149</td>\n",
       "      <td>0.335579</td>\n",
       "      <td>0.088129</td>\n",
       "      <td>0.143289</td>\n",
       "      <td>0.001701</td>\n",
       "      <td>1630.656199</td>\n",
       "      <td>79667.267654</td>\n",
       "      <td>1948.503884</td>\n",
       "      <td>60204.020268</td>\n",
       "      <td>...</td>\n",
       "      <td>30.336359</td>\n",
       "      <td>0.664582</td>\n",
       "      <td>45.880913</td>\n",
       "      <td>1.689446</td>\n",
       "      <td>51.363583</td>\n",
       "      <td>-3.392489</td>\n",
       "      <td>26.738789</td>\n",
       "      <td>0.536961</td>\n",
       "      <td>29.146694</td>\n",
       "      <td>blues</td>\n",
       "    </tr>\n",
       "  </tbody>\n",
       "</table>\n",
       "<p>5 rows × 60 columns</p>\n",
       "</div>"
      ],
      "text/plain": [
       "            filename  length  chroma_stft_mean  chroma_stft_var  rms_mean  \\\n",
       "0  blues.00000.0.wav   66149          0.335406         0.091048  0.130405   \n",
       "1  blues.00000.1.wav   66149          0.343065         0.086147  0.112699   \n",
       "2  blues.00000.2.wav   66149          0.346815         0.092243  0.132003   \n",
       "3  blues.00000.3.wav   66149          0.363639         0.086856  0.132565   \n",
       "4  blues.00000.4.wav   66149          0.335579         0.088129  0.143289   \n",
       "\n",
       "    rms_var  spectral_centroid_mean  spectral_centroid_var  \\\n",
       "0  0.003521             1773.065032          167541.630869   \n",
       "1  0.001450             1816.693777           90525.690866   \n",
       "2  0.004620             1788.539719          111407.437613   \n",
       "3  0.002448             1655.289045          111952.284517   \n",
       "4  0.001701             1630.656199           79667.267654   \n",
       "\n",
       "   spectral_bandwidth_mean  spectral_bandwidth_var  ...  mfcc16_var  \\\n",
       "0              1972.744388           117335.771563  ...   39.687145   \n",
       "1              2010.051501            65671.875673  ...   64.748276   \n",
       "2              2084.565132            75124.921716  ...   67.336563   \n",
       "3              1960.039988            82913.639269  ...   47.739452   \n",
       "4              1948.503884            60204.020268  ...   30.336359   \n",
       "\n",
       "   mfcc17_mean  mfcc17_var  mfcc18_mean  mfcc18_var  mfcc19_mean  mfcc19_var  \\\n",
       "0    -3.241280   36.488243     0.722209   38.099152    -5.050335   33.618073   \n",
       "1    -6.055294   40.677654     0.159015   51.264091    -2.837699   97.030830   \n",
       "2    -1.768610   28.348579     2.378768   45.717648    -1.938424   53.050835   \n",
       "3    -3.841155   28.337118     1.218588   34.770935    -3.580352   50.836224   \n",
       "4     0.664582   45.880913     1.689446   51.363583    -3.392489   26.738789   \n",
       "\n",
       "   mfcc20_mean  mfcc20_var  label  \n",
       "0    -0.243027   43.771767  blues  \n",
       "1     5.784063   59.943081  blues  \n",
       "2     2.517375   33.105122  blues  \n",
       "3     3.630866   32.023678  blues  \n",
       "4     0.536961   29.146694  blues  \n",
       "\n",
       "[5 rows x 60 columns]"
      ]
     },
     "execution_count": 5,
     "metadata": {},
     "output_type": "execute_result"
    }
   ],
   "source": [
    "path = 'D:/Master/ArtificialIntelligence/archive/Data/features_3_sec.csv'\n",
    "data = pd.read_csv(path)\n",
    "data.head()"
   ]
  },
  {
   "cell_type": "code",
   "execution_count": 6,
   "id": "c2075767-d601-4df9-a940-4fe3a28ea0ed",
   "metadata": {},
   "outputs": [
    {
     "data": {
      "text/plain": [
       "(9990, 60)"
      ]
     },
     "execution_count": 6,
     "metadata": {},
     "output_type": "execute_result"
    }
   ],
   "source": [
    "data.shape"
   ]
  },
  {
   "cell_type": "code",
   "execution_count": 7,
   "id": "82a6f0e5-0f88-4ffd-9e83-aacab1247d1b",
   "metadata": {},
   "outputs": [
    {
     "data": {
      "text/plain": [
       "filename                    object\n",
       "length                       int64\n",
       "chroma_stft_mean           float64\n",
       "chroma_stft_var            float64\n",
       "rms_mean                   float64\n",
       "rms_var                    float64\n",
       "spectral_centroid_mean     float64\n",
       "spectral_centroid_var      float64\n",
       "spectral_bandwidth_mean    float64\n",
       "spectral_bandwidth_var     float64\n",
       "rolloff_mean               float64\n",
       "rolloff_var                float64\n",
       "zero_crossing_rate_mean    float64\n",
       "zero_crossing_rate_var     float64\n",
       "harmony_mean               float64\n",
       "harmony_var                float64\n",
       "perceptr_mean              float64\n",
       "perceptr_var               float64\n",
       "tempo                      float64\n",
       "mfcc1_mean                 float64\n",
       "mfcc1_var                  float64\n",
       "mfcc2_mean                 float64\n",
       "mfcc2_var                  float64\n",
       "mfcc3_mean                 float64\n",
       "mfcc3_var                  float64\n",
       "mfcc4_mean                 float64\n",
       "mfcc4_var                  float64\n",
       "mfcc5_mean                 float64\n",
       "mfcc5_var                  float64\n",
       "mfcc6_mean                 float64\n",
       "mfcc6_var                  float64\n",
       "mfcc7_mean                 float64\n",
       "mfcc7_var                  float64\n",
       "mfcc8_mean                 float64\n",
       "mfcc8_var                  float64\n",
       "mfcc9_mean                 float64\n",
       "mfcc9_var                  float64\n",
       "mfcc10_mean                float64\n",
       "mfcc10_var                 float64\n",
       "mfcc11_mean                float64\n",
       "mfcc11_var                 float64\n",
       "mfcc12_mean                float64\n",
       "mfcc12_var                 float64\n",
       "mfcc13_mean                float64\n",
       "mfcc13_var                 float64\n",
       "mfcc14_mean                float64\n",
       "mfcc14_var                 float64\n",
       "mfcc15_mean                float64\n",
       "mfcc15_var                 float64\n",
       "mfcc16_mean                float64\n",
       "mfcc16_var                 float64\n",
       "mfcc17_mean                float64\n",
       "mfcc17_var                 float64\n",
       "mfcc18_mean                float64\n",
       "mfcc18_var                 float64\n",
       "mfcc19_mean                float64\n",
       "mfcc19_var                 float64\n",
       "mfcc20_mean                float64\n",
       "mfcc20_var                 float64\n",
       "label                       object\n",
       "dtype: object"
      ]
     },
     "execution_count": 7,
     "metadata": {},
     "output_type": "execute_result"
    }
   ],
   "source": [
    "data.dtypes"
   ]
  },
  {
   "cell_type": "code",
   "execution_count": 8,
   "id": "fa39776f-eccd-47bf-b897-eb4c570026c7",
   "metadata": {},
   "outputs": [],
   "source": [
    "data = data.drop(labels=\"filename\",axis=1)"
   ]
  },
  {
   "cell_type": "code",
   "execution_count": 9,
   "id": "99d2db48-f172-4b67-9b55-4d6266ac2e2b",
   "metadata": {},
   "outputs": [
    {
     "name": "stdout",
     "output_type": "stream",
     "text": [
      "['blues', 'classical', 'country', 'disco', 'hiphop', 'jazz', 'metal', 'pop', 'reggae', 'rock']\n",
      "blues [1. 0. 0. 0. 0. 0. 0. 0. 0. 0.]\n",
      "classical [0. 1. 0. 0. 0. 0. 0. 0. 0. 0.]\n",
      "country [0. 0. 1. 0. 0. 0. 0. 0. 0. 0.]\n",
      "disco [0. 0. 0. 1. 0. 0. 0. 0. 0. 0.]\n",
      "hiphop [0. 0. 0. 0. 1. 0. 0. 0. 0. 0.]\n",
      "jazz [0. 0. 0. 0. 0. 1. 0. 0. 0. 0.]\n",
      "metal [0. 0. 0. 0. 0. 0. 1. 0. 0. 0.]\n",
      "pop [0. 0. 0. 0. 0. 0. 0. 1. 0. 0.]\n",
      "reggae [0. 0. 0. 0. 0. 0. 0. 0. 1. 0.]\n",
      "rock [0. 0. 0. 0. 0. 0. 0. 0. 0. 1.]\n",
      "n_files: 1000\n"
     ]
    }
   ],
   "source": [
    "# Setup: path, one-hot vector for the labels\n",
    "# ----------------\n",
    "\n",
    "path = 'D:/Master/ArtificialIntelligence/archive/Data/genres_original/'\n",
    "labels = [f.name for f in os.scandir(path) if f.is_dir()]\n",
    "\n",
    "# One-hot vector for the labels\n",
    "indices = [i for i in range(len(labels))]\n",
    "depth = len(labels)\n",
    "oh = tf.one_hot(indices, depth)\n",
    "oh_dict = {label:np1.array(oh[i,:]) for i, label in enumerate(labels)}\n",
    "\n",
    "print(labels)\n",
    "for k, v in oh_dict.items():\n",
    "    print(k,v)\n",
    "\n",
    "n_files = 0\n",
    "for folder in labels:\n",
    "    files = os.listdir(path+folder)\n",
    "    for file in files:\n",
    "        if file.split('.')[-1] == 'wav':\n",
    "            n_files += 1\n",
    "print(f'n_files: {n_files}')"
   ]
  },
  {
   "cell_type": "code",
   "execution_count": 10,
   "id": "a9b0791d-19e4-4aea-8400-3fbf1be1736d",
   "metadata": {},
   "outputs": [],
   "source": [
    "# Global variables\n",
    "# ----------------\n",
    "\n",
    "H = 128 # height of the tensor\n",
    "\n",
    "N_FEATURES = 1 # Channels of the tensor\n",
    "N_FILES = n_files\n",
    "AUG_FEATURES = 5\n",
    "N_SLICES = 3\n",
    "M = N_FILES * N_SLICES * (AUG_FEATURES + 1) # Number of instances after the feature transform"
   ]
  },
  {
   "cell_type": "code",
   "execution_count": 11,
   "id": "272f40f3-76ed-4b25-95c0-a7b8391078ec",
   "metadata": {},
   "outputs": [],
   "source": [
    "def read_sample(file):\n",
    "    y, sr = lb.load(file)\n",
    "    return y, sr\n",
    "\n",
    "def listen_sample(sample, sr=44100):\n",
    "    return IPython.display.display(ipd.Audio(data=sample, rate=sr))\n",
    "\n",
    "\n",
    "def augment_sample(sample, sr):\n",
    "    \"\"\"\n",
    "    Data augmentation. To prevent overfitting\n",
    "    Techniques used: pitch shist, time stretch, add noise\n",
    "\n",
    "    Args:\n",
    "        sample: usually output of lb.load()\n",
    "        sr = sampling rate. output from lb.load()\n",
    "        \n",
    "    Returns:\n",
    "        list with each augmented sample as an item of the list\n",
    "    \"\"\"\n",
    "    augmented_samples = list()\n",
    "    #. 1. Split the sample into smaller samples\n",
    "    samples = np1.array_split(sample, N_SLICES)\n",
    "    \n",
    "    for sample_ in samples:\n",
    "        # 2. Add the original sample\n",
    "        augmented_samples.append(sample_)\n",
    "        # 3. Change pitch\n",
    "        for n_steps1 in [4,6]:\n",
    "            augmented_samples.append(lb.effects.pitch_shift(y = sample_, sr = sr, n_steps = n_steps1))\n",
    "\n",
    "        # 4. Time Stretch\n",
    "        for rate in [0.5, 2.0]:\n",
    "            augmented_samples.append(lb.effects.time_stretch(y = sample_, rate = rate))\n",
    "\n",
    "        # 5. White Noise\n",
    "        wn = np1.random.randn(len(sample_))\n",
    "        augmented_samples.append(sample_ + 0.005*wn)\n",
    "    \n",
    "    return augmented_samples\n",
    "\n",
    "def get_input_length(path, folders):\n",
    "    \"\"\"\n",
    "    Get the input length from the first file\n",
    "    \"\"\"\n",
    "    folder = folders[0]\n",
    "    files = os.listdir(path+folder)\n",
    "    input_length = 0\n",
    "    for file in files:\n",
    "        if file.split('.')[-1] == 'wav':\n",
    "            sample, sr = read_sample(path+folder+'/'+file)\n",
    "            input_length = len(sample) // N_SLICES\n",
    "            break\n",
    "        \n",
    "    \n",
    "    return input_length\n",
    "\n",
    "\n",
    "def get_n_frames(sample, sr):\n",
    "    mel = lb.feature.melspectrogram(y=sample, sr=sr)\n",
    "#     print(mel.shape)\n",
    "    return mel.shape[1]\n",
    "    \n",
    "\n",
    "def read_raw_data(path, folders):\n",
    "    \"\"\"\n",
    "    Read the data from disk and save it in two numpy arrays. \n",
    "    Run only once, and then run create_dataset for computing \n",
    "    the different features.\n",
    "    \n",
    "    Args:\n",
    "        path: path to where the folders with the audio data is\n",
    "        folders: list of folders. in this case is the same as the labels\n",
    "        \n",
    "    Returns: \n",
    "        x_raw: samples plus augmented samples. \n",
    "         shape: (N_FILES*AUG_FEATURES, INPUT_LENGTH)\n",
    "        y_raw: y tensor of the samples and augmented samples\n",
    "         shape: (N_FILES*AUG_FEATURES, 10) one-hot encoded\n",
    "    \n",
    "    \"\"\"\n",
    "    input_length = get_input_length(path, folders)\n",
    "    \n",
    "    x_raw = np1.zeros((M, input_length))\n",
    "    y_raw = np1.zeros((M, 10))\n",
    "    print(x_raw.shape, y_raw.shape)\n",
    "    i = 0\n",
    "    for folder in folders:\n",
    "        print(f\"Reading {folder}\")\n",
    "        files = os.listdir(path+folder)\n",
    "        for file in files:\n",
    "         if file !='jazz.00054.wav':\n",
    "            # make sure the file is a .wav file\n",
    "            if file.split('.')[-1] == 'wav':\n",
    "                sample, sr = read_sample(path+folder+'/'+file)\n",
    "                aug_samples = augment_sample(sample, sr)\n",
    "                for sample_ in aug_samples: \n",
    "                    # padding or shorten sample\n",
    "                    if len(sample_) > input_length:\n",
    "                        sample_ = sample_[:input_length]\n",
    "                    else:\n",
    "                        sample_ = np1.pad(sample_, (0, max(0, input_length - len(sample_))))\n",
    "                    x_raw[i,:] = sample_\n",
    "                    y_raw[i,:] = oh_dict[folder]\n",
    "                    i += 1\n",
    "    print('Samples read: ', i)\n",
    "    return x_raw, y_raw, sr\n",
    "    \n",
    "def create_dataset(x_raw, sr):\n",
    "    \"\"\"\n",
    "    Args:\n",
    "        x_raw: Tensor with shape (N_FILES*AUG_FEATURES, INPUT_LENGTH)\n",
    "        sr: The sr used across the samples. same for all\n",
    "    \n",
    "    Returns: \n",
    "        X: Tensor(n_files, 128, frames, N_FEATURES). With the features\n",
    "        already encoded\n",
    "        \n",
    "    \"\"\"\n",
    "    n_frames = get_n_frames(x_raw[0,:], sr)\n",
    "    X = np1.zeros((M, 128, n_frames, N_FEATURES))\n",
    "\n",
    "    for i in range(M):\n",
    "        sample = x_raw[i,:]\n",
    "        mel = lb.feature.melspectrogram(y=sample, sr=sr)\n",
    "        spect = lb.power_to_db(mel, ref=1.0)\n",
    "        norm_spect = normalize(spect)\n",
    "        X[i,:,:,0] = norm_spect\n",
    "\n",
    "                \n",
    "    return X"
   ]
  },
  {
   "cell_type": "code",
   "execution_count": 12,
   "id": "448b47d2-3cd3-4304-bf55-a6ec9cce39e2",
   "metadata": {},
   "outputs": [
    {
     "name": "stdout",
     "output_type": "stream",
     "text": [
      "(18000, 220598) (18000, 10)\n",
      "Reading blues\n",
      "Reading classical\n",
      "Reading country\n",
      "Reading disco\n",
      "Reading hiphop\n",
      "Reading jazz\n",
      "Reading metal\n",
      "Reading pop\n",
      "Reading reggae\n",
      "Reading rock\n",
      "Samples read:  17982\n",
      "(18000, 220598) (18000, 10)\n"
     ]
    }
   ],
   "source": [
    "# Reading raw data from files\n",
    "# -------------\n",
    "# saving it into disk in case we need to load it\n",
    "# hello everyone\n",
    "batch_size = 32\n",
    "x_raw, y_raw, sr = read_raw_data(path, labels)\n",
    "print(x_raw.shape, y_raw.shape)\n",
    "#np1.save('D:/Master/ArtificialIntelligence/archive/Data/x_raw_3_slice', x_raw)\n",
    "#np1.save('D:/Master/ArtificialIntelligence/archive/Data/y_raw_3_slice', y_raw)"
   ]
  },
  {
   "cell_type": "code",
   "execution_count": 13,
   "id": "adc02d1e-6fb4-4dfe-a52a-25576ffef517",
   "metadata": {},
   "outputs": [
    {
     "data": {
      "text/plain": [
       "[<matplotlib.lines.Line2D at 0x21880511e90>]"
      ]
     },
     "execution_count": 13,
     "metadata": {},
     "output_type": "execute_result"
    },
    {
     "data": {
      "image/png": "[encoded data removed]",
      "text/plain": [
       "<Figure size 640x480 with 1 Axes>"
      ]
     },
     "metadata": {},
     "output_type": "display_data"
    }
   ],
   "source": [
    "plt.plot(x_raw[:,0])"
   ]
  },
  {
   "cell_type": "code",
   "execution_count": null,
   "id": "bd997747-2b1f-4bf1-b982-c6f27a65b123",
   "metadata": {},
   "outputs": [],
   "source": [
    "# np1.save('D:/Master/ArtificialIntelligence/archive/Data/x_raw_3_slice', x_raw)\n",
    "# np1.save('D:/Master/ArtificialIntelligence/archive/Data/y_raw_3_slice', y_raw)"
   ]
  },
  {
   "cell_type": "code",
   "execution_count": null,
   "id": "18cb3cf8-8651-4c40-bd78-0a644b86b478",
   "metadata": {},
   "outputs": [],
   "source": [
    "# Run only if we are loading the data\n",
    "\n",
    "x_raw = np1.load('D:/Master/ArtificialIntelligence/archive/Data/x_raw_3_slice.npy')\n",
    "y_raw = np1.load('D:/Master/ArtificialIntelligence/archive/Data/y_raw_3_slice.npy')\n",
    "_,sr = read_sample(path+'blues/'+'blues.00000.wav')"
   ]
  },
  {
   "cell_type": "code",
   "execution_count": 14,
   "id": "f920909d-222d-4f7c-8ba7-07e15aeb5534",
   "metadata": {},
   "outputs": [],
   "source": [
    "_,sr = read_sample(path+'blues/'+'blues.00000.wav')"
   ]
  },
  {
   "cell_type": "code",
   "execution_count": 15,
   "id": "6140b201-e99f-445c-9a50-3bba2200d341",
   "metadata": {},
   "outputs": [
    {
     "name": "stdout",
     "output_type": "stream",
     "text": [
      "22050\n",
      "(18000, 128, 431, 1)\n",
      "(18000, 10)\n"
     ]
    }
   ],
   "source": [
    "# Creating the tensor with the features\n",
    "# -----------\n",
    "print(sr)\n",
    "X = create_dataset(x_raw, sr)\n",
    "Y = np1.copy(y_raw)\n",
    "print(X.shape)\n",
    "print(Y.shape)"
   ]
  },
  {
   "cell_type": "code",
   "execution_count": 16,
   "id": "3e01c173-40a3-4faa-8589-36a9b2ec84fb",
   "metadata": {},
   "outputs": [],
   "source": [
    "assert X.shape[0] == Y.shape[0], \"X, Y shapes don't match\"\n",
    "assert Y.shape[1] == len(labels), \"Y shape doesn't match the shape of the labels\""
   ]
  },
  {
   "cell_type": "code",
   "execution_count": 17,
   "id": "561391df-5207-4844-afd3-4afc8276843d",
   "metadata": {},
   "outputs": [
    {
     "name": "stdout",
     "output_type": "stream",
     "text": [
      "Train: (14400, 128, 431, 1) (14400, 10)\n",
      "Valid: (1800, 128, 431, 1)   (1800, 10)\n",
      "Test:  (1800, 128, 431, 1)  (1800, 10)\n"
     ]
    }
   ],
   "source": [
    "# Train, validation, test split\n",
    "# ------------\n",
    "# 80% for training, 10% for validation and 10% for testing\n",
    "\n",
    "x_train, x_test_valid, y_train, y_test_valid = train_test_split(X,Y, train_size=0.8)\n",
    "x_val, x_test, y_val, y_test = train_test_split(x_test_valid,y_test_valid, test_size=0.5)\n",
    "\n",
    "print(f'Train: {x_train.shape} {y_train.shape}')\n",
    "print(f'Valid: {x_val.shape}   {y_val.shape}')\n",
    "print(f'Test:  {x_test.shape}  {y_test.shape}')"
   ]
  },
  {
   "cell_type": "code",
   "execution_count": 18,
   "id": "c1954a86-e6b9-4f0a-b609-a03ef98f36d5",
   "metadata": {},
   "outputs": [
    {
     "name": "stdout",
     "output_type": "stream",
     "text": [
      "WARNING:tensorflow:From C:\\Users\\santo\\anaconda3\\Lib\\site-packages\\keras\\src\\backend.py:1398: The name tf.executing_eagerly_outside_functions is deprecated. Please use tf.compat.v1.executing_eagerly_outside_functions instead.\n",
      "\n"
     ]
    }
   ],
   "source": [
    "# LeNet-5\n",
    "# -----\n",
    "input_shape = (X.shape[1], X.shape[2], X.shape[3])\n",
    "inputs = keras.Input(shape=input_shape) \n",
    "\n",
    "x = layers.Conv2D(8, (3,3), activation='relu')(inputs)\n",
    "x = layers.AveragePooling2D()(x)\n",
    "x = layers.Dropout(0.2)(x)\n",
    "x = layers.Conv2D(16, (3,3), activation='relu')(x)\n",
    "x = layers.AveragePooling2D()(x)\n",
    "x = layers.Dropout(0.2)(x)\n",
    "x = layers.Flatten()(x)\n",
    "\n",
    "x = layers.Dense(120, activation='relu')(x)\n",
    "x = layers.Dropout(0.3)(x)\n",
    "x = layers.Dense(84, activation='relu')(x)\n",
    "x = layers.Dropout(0.4)(x)\n",
    "outputs = layers.Dense(10, activation = 'softmax')(x)"
   ]
  },
  {
   "cell_type": "code",
   "execution_count": 19,
   "id": "36924190-31af-43fd-bf09-e1cce31ad975",
   "metadata": {},
   "outputs": [
    {
     "name": "stdout",
     "output_type": "stream",
     "text": [
      "Model: \"model\"\n",
      "_________________________________________________________________\n",
      " Layer (type)                Output Shape              Param #   \n",
      "=================================================================\n",
      " input_1 (InputLayer)        [(None, 128, 431, 1)]     0         \n",
      "                                                                 \n",
      " conv2d (Conv2D)             (None, 126, 429, 8)       80        \n",
      "                                                                 \n",
      " average_pooling2d (Average  (None, 63, 214, 8)        0         \n",
      " Pooling2D)                                                      \n",
      "                                                                 \n",
      " dropout (Dropout)           (None, 63, 214, 8)        0         \n",
      "                                                                 \n",
      " conv2d_1 (Conv2D)           (None, 61, 212, 16)       1168      \n",
      "                                                                 \n",
      " average_pooling2d_1 (Avera  (None, 30, 106, 16)       0         \n",
      " gePooling2D)                                                    \n",
      "                                                                 \n",
      " dropout_1 (Dropout)         (None, 30, 106, 16)       0         \n",
      "                                                                 \n",
      " flatten (Flatten)           (None, 50880)             0         \n",
      "                                                                 \n",
      " dense (Dense)               (None, 120)               6105720   \n",
      "                                                                 \n",
      " dropout_2 (Dropout)         (None, 120)               0         \n",
      "                                                                 \n",
      " dense_1 (Dense)             (None, 84)                10164     \n",
      "                                                                 \n",
      " dropout_3 (Dropout)         (None, 84)                0         \n",
      "                                                                 \n",
      " dense_2 (Dense)             (None, 10)                850       \n",
      "                                                                 \n",
      "=================================================================\n",
      "Total params: 6117982 (23.34 MB)\n",
      "Trainable params: 6117982 (23.34 MB)\n",
      "Non-trainable params: 0 (0.00 Byte)\n",
      "_________________________________________________________________\n"
     ]
    }
   ],
   "source": [
    "lenet = models.Model(inputs = inputs, outputs=outputs)\n",
    "optimizer = optimizers.Adam(learning_rate = 0.001)\n",
    "lenet.compile(optimizer, loss=losses.CategoricalCrossentropy(), metrics=['accuracy'])\n",
    "lenet.summary()"
   ]
  },
  {
   "cell_type": "code",
   "execution_count": 20,
   "id": "5f025112-f711-453f-a351-2f20d87ef9e2",
   "metadata": {},
   "outputs": [
    {
     "name": "stdout",
     "output_type": "stream",
     "text": [
      "Epoch 1/20\n",
      "WARNING:tensorflow:From C:\\Users\\santo\\anaconda3\\Lib\\site-packages\\keras\\src\\utils\\tf_utils.py:492: The name tf.ragged.RaggedTensorValue is deprecated. Please use tf.compat.v1.ragged.RaggedTensorValue instead.\n",
      "\n",
      "WARNING:tensorflow:From C:\\Users\\santo\\anaconda3\\Lib\\site-packages\\keras\\src\\engine\\base_layer_utils.py:384: The name tf.executing_eagerly_outside_functions is deprecated. Please use tf.compat.v1.executing_eagerly_outside_functions instead.\n",
      "\n",
      "450/450 [==============================] - 130s 163ms/step - loss: 1.9904 - accuracy: 0.2600 - val_loss: 1.6517 - val_accuracy: 0.4194\n",
      "Epoch 2/20\n",
      "450/450 [==============================] - 61s 137ms/step - loss: 1.5585 - accuracy: 0.4328 - val_loss: 1.3224 - val_accuracy: 0.5356\n",
      "Epoch 3/20\n",
      "450/450 [==============================] - 61s 136ms/step - loss: 1.3120 - accuracy: 0.5247 - val_loss: 1.1481 - val_accuracy: 0.5778\n",
      "Epoch 4/20\n",
      "450/450 [==============================] - 61s 135ms/step - loss: 1.1085 - accuracy: 0.6038 - val_loss: 0.9974 - val_accuracy: 0.6633\n",
      "Epoch 5/20\n",
      "450/450 [==============================] - 61s 136ms/step - loss: 0.9301 - accuracy: 0.6676 - val_loss: 0.9090 - val_accuracy: 0.6972\n",
      "Epoch 6/20\n",
      "450/450 [==============================] - 61s 135ms/step - loss: 0.7885 - accuracy: 0.7217 - val_loss: 0.9014 - val_accuracy: 0.7022\n",
      "Epoch 7/20\n",
      "450/450 [==============================] - 61s 135ms/step - loss: 0.6868 - accuracy: 0.7587 - val_loss: 0.9464 - val_accuracy: 0.7078\n",
      "Epoch 8/20\n",
      "450/450 [==============================] - 59s 132ms/step - loss: 0.6176 - accuracy: 0.7812 - val_loss: 0.8180 - val_accuracy: 0.7350\n",
      "Epoch 9/20\n",
      "450/450 [==============================] - 60s 133ms/step - loss: 0.5524 - accuracy: 0.8045 - val_loss: 0.8039 - val_accuracy: 0.7417\n",
      "Epoch 10/20\n",
      "450/450 [==============================] - 61s 136ms/step - loss: 0.4971 - accuracy: 0.8212 - val_loss: 0.7874 - val_accuracy: 0.7444\n",
      "Epoch 11/20\n",
      "450/450 [==============================] - 61s 135ms/step - loss: 0.4689 - accuracy: 0.8317 - val_loss: 0.7593 - val_accuracy: 0.7622\n",
      "Epoch 12/20\n",
      "450/450 [==============================] - 61s 135ms/step - loss: 0.4345 - accuracy: 0.8435 - val_loss: 0.7998 - val_accuracy: 0.7439\n",
      "Epoch 13/20\n",
      "450/450 [==============================] - 61s 135ms/step - loss: 0.4099 - accuracy: 0.8549 - val_loss: 0.8312 - val_accuracy: 0.7528\n",
      "Epoch 14/20\n",
      "450/450 [==============================] - 61s 136ms/step - loss: 0.3853 - accuracy: 0.8640 - val_loss: 0.8092 - val_accuracy: 0.7644\n",
      "Epoch 15/20\n",
      "450/450 [==============================] - 62s 137ms/step - loss: 0.3681 - accuracy: 0.8658 - val_loss: 0.8789 - val_accuracy: 0.7567\n",
      "Epoch 16/20\n",
      "450/450 [==============================] - 62s 137ms/step - loss: 0.3494 - accuracy: 0.8754 - val_loss: 0.8647 - val_accuracy: 0.7589\n",
      "Epoch 17/20\n",
      "450/450 [==============================] - 61s 137ms/step - loss: 0.3369 - accuracy: 0.8790 - val_loss: 0.9360 - val_accuracy: 0.7561\n",
      "Epoch 18/20\n",
      "450/450 [==============================] - 60s 133ms/step - loss: 0.3111 - accuracy: 0.8881 - val_loss: 0.8478 - val_accuracy: 0.7700\n",
      "Epoch 19/20\n",
      "450/450 [==============================] - 61s 135ms/step - loss: 0.3042 - accuracy: 0.8913 - val_loss: 0.8597 - val_accuracy: 0.7633\n",
      "Epoch 20/20\n",
      "450/450 [==============================] - 61s 135ms/step - loss: 0.2963 - accuracy: 0.8933 - val_loss: 0.9088 - val_accuracy: 0.7583\n"
     ]
    }
   ],
   "source": [
    "epochs = 20\n",
    "\n",
    "history_lenet = lenet.fit(x=x_train, \n",
    "                          y=y_train,\n",
    "                          validation_data=(x_val, y_val),\n",
    "                          epochs=epochs,\n",
    "                          shuffle=True)"
   ]
  },
  {
   "cell_type": "code",
   "execution_count": 21,
   "id": "416bef15-a1e7-4c61-8f01-ac89c0ed8d85",
   "metadata": {},
   "outputs": [
    {
     "name": "stdout",
     "output_type": "stream",
     "text": [
      "57/57 [==============================] - 1s 21ms/step - loss: 0.9598 - accuracy: 0.7594\n"
     ]
    },
    {
     "data": {
      "text/plain": [
       "[0.9597936272621155, 0.7594444155693054]"
      ]
     },
     "execution_count": 21,
     "metadata": {},
     "output_type": "execute_result"
    }
   ],
   "source": [
    "lenet.evaluate(x=x_test, y=y_test)"
   ]
  },
  {
   "cell_type": "code",
   "execution_count": 23,
   "id": "2a476221-1a50-4231-9294-cfb8ae126093",
   "metadata": {},
   "outputs": [
    {
     "name": "stdout",
     "output_type": "stream",
     "text": [
      "57/57 [==============================] - 1s 24ms/step\n"
     ]
    },
    {
     "data": {
      "image/png": "[encoded data removed]",
      "text/plain": [
       "<Figure size 1000x800 with 2 Axes>"
      ]
     },
     "metadata": {},
     "output_type": "display_data"
    }
   ],
   "source": [
    "# HeatMap LeNet \n",
    "\n",
    "y_true = tf.argmax(y_test, axis=1)\n",
    "y_pred = tf.argmax(lenet.predict(x_test), axis=1)\n",
    "\n",
    "# Have to be 1-D vectors. Not one-hot encoded\n",
    "confusion_mtx = tf.math.confusion_matrix(y_true, y_pred) \n",
    "fig, ax = plt.subplots(figsize=(10, 8))\n",
    "sns.heatmap(confusion_mtx, xticklabels=labels, yticklabels=labels, \n",
    "            annot=True, fmt='g', ax=ax, cmap=\"viridis\", vmax=200)\n",
    "ax.set_xlabel('Prediction')\n",
    "ax.set_ylabel('Label')\n",
    "plt.savefig(\"D:/Master/ArtificialIntelligence/archive/Data/png/lenet_confmatrix.png\", dpi=150)\n",
    "plt.show()"
   ]
  },
  {
   "cell_type": "code",
   "execution_count": null,
   "id": "5ec64c65-563d-4310-b2b6-24fbdfae3a7c",
   "metadata": {},
   "outputs": [],
   "source": [
    "plt.rcParams[\"axes.prop_cycle\"] = plt.cycler(\"color\", plt.cm.Set1.colors)"
   ]
  },
  {
   "cell_type": "code",
   "execution_count": 24,
   "id": "5bd8a8bb-5337-4da1-a9e8-790350fa24c9",
   "metadata": {},
   "outputs": [
    {
     "data": {
      "image/png": "[encoded data removed]",
      "text/plain": [
       "<Figure size 500x400 with 1 Axes>"
      ]
     },
     "metadata": {},
     "output_type": "display_data"
    }
   ],
   "source": [
    "fig, ax = plt.subplots(figsize=(5,4))\n",
    "ax.plot(range(epochs), history_lenet.history['accuracy'], label='accuracy', lw=1.25)\n",
    "ax.plot(range(epochs), history_lenet.history['val_accuracy'], label='val accuracy', lw=1.25)\n",
    "ax.set_xlabel('Epochs')\n",
    "ax.set_ylabel('Accuracy')\n",
    "ax.set_xticks([i for i in range(0, epochs+1,2)])\n",
    "ax.legend()\n",
    "plt.savefig(\"D:/Master/ArtificialIntelligence/archive/Data/png/lenet_acc_epochs.png\", dpi=150)\n",
    "\n",
    "plt.show()"
   ]
  },
  {
   "cell_type": "code",
   "execution_count": 25,
   "id": "fc40dde2-54ac-4daf-99eb-ada08ffa3807",
   "metadata": {},
   "outputs": [
    {
     "name": "stdout",
     "output_type": "stream",
     "text": [
      "WARNING:tensorflow:From C:\\Users\\santo\\anaconda3\\Lib\\site-packages\\keras\\src\\layers\\pooling\\max_pooling2d.py:161: The name tf.nn.max_pool is deprecated. Please use tf.nn.max_pool2d instead.\n",
      "\n"
     ]
    }
   ],
   "source": [
    "# CNN-64 Resizing + FC\n",
    "# --------\n",
    "\n",
    "n_filters = 64\n",
    "input_shape = (X.shape[1], X.shape[2], X.shape[3])\n",
    "inputs = keras.Input(shape=input_shape) \n",
    "x = preprocessing.Resizing(128, 128)(inputs)\n",
    "\n",
    "x = layers.Conv2D(n_filters, 3, activation='relu')(x)\n",
    "x = layers.MaxPooling2D((2,2))(x)\n",
    "x = layers.Dropout(0.2)(x)\n",
    "\n",
    "x = layers.Conv2D(n_filters, 3, activation='relu')(x)\n",
    "x = layers.MaxPooling2D((2,2))(x)\n",
    "x = layers.Dropout(0.2)(x)\n",
    "\n",
    "x = layers.Conv2D(n_filters, 3, activation='relu')(x)\n",
    "x = layers.MaxPooling2D((2,2))(x)\n",
    "x = layers.Dropout(0.2)(x)\n",
    "\n",
    "\n",
    "x = layers.Flatten()(x)\n",
    "x = layers.Dense(128, activation='relu')(x)\n",
    "x = layers.Dropout(0.4)(x)\n",
    "\n",
    "outputs = layers.Dense(10, activation='softmax')(x)"
   ]
  },
  {
   "cell_type": "code",
   "execution_count": 27,
   "id": "49eddf07-0b68-499f-8991-c0adb9acf367",
   "metadata": {},
   "outputs": [],
   "source": [
    "\n",
    "# Original\n",
    "# ---------\n",
    "\n",
    "n_filters = 64\n",
    "inputs = keras.Input(shape=input_shape) \n",
    "x = layers.Conv2D(n_filters, (3,3), activation='relu')(inputs)\n",
    "x = layers.MaxPooling2D((2,2))(x)\n",
    "x = layers.Dropout(0.2)(x)\n",
    "\n",
    "x = layers.Conv2D(n_filters, (3,3), activation='relu')(x)\n",
    "x = layers.MaxPooling2D((2,2))(x)\n",
    "x = layers.Dropout(0.2)(x)\n",
    "\n",
    "x = layers.Conv2D(n_filters, (3,3), activation='relu')(x)\n",
    "x = layers.MaxPooling2D((2,2))(x)\n",
    "x = layers.Dropout(0.2)(x)\n",
    "\n",
    "x = layers.Conv2D(n_filters, (3,3), activation='relu')(x)\n",
    "x = layers.MaxPooling2D((2,2))(x)\n",
    "x = layers.Dropout(0.3)(x)\n",
    "\n",
    "x = layers.Flatten()(x)\n",
    "outputs = layers.Dense(10, activation='softmax')(x)"
   ]
  },
  {
   "cell_type": "code",
   "execution_count": 28,
   "id": "19162e5d-57b2-4150-86f4-f631d4cbfd9e",
   "metadata": {},
   "outputs": [
    {
     "name": "stdout",
     "output_type": "stream",
     "text": [
      "Model: \"model_1\"\n",
      "_________________________________________________________________\n",
      " Layer (type)                Output Shape              Param #   \n",
      "=================================================================\n",
      " input_4 (InputLayer)        [(None, 128, 431, 1)]     0         \n",
      "                                                                 \n",
      " conv2d_9 (Conv2D)           (None, 126, 429, 64)      640       \n",
      "                                                                 \n",
      " max_pooling2d_7 (MaxPoolin  (None, 63, 214, 64)       0         \n",
      " g2D)                                                            \n",
      "                                                                 \n",
      " dropout_12 (Dropout)        (None, 63, 214, 64)       0         \n",
      "                                                                 \n",
      " conv2d_10 (Conv2D)          (None, 61, 212, 64)       36928     \n",
      "                                                                 \n",
      " max_pooling2d_8 (MaxPoolin  (None, 30, 106, 64)       0         \n",
      " g2D)                                                            \n",
      "                                                                 \n",
      " dropout_13 (Dropout)        (None, 30, 106, 64)       0         \n",
      "                                                                 \n",
      " conv2d_11 (Conv2D)          (None, 28, 104, 64)       36928     \n",
      "                                                                 \n",
      " max_pooling2d_9 (MaxPoolin  (None, 14, 52, 64)        0         \n",
      " g2D)                                                            \n",
      "                                                                 \n",
      " dropout_14 (Dropout)        (None, 14, 52, 64)        0         \n",
      "                                                                 \n",
      " conv2d_12 (Conv2D)          (None, 12, 50, 64)        36928     \n",
      "                                                                 \n",
      " max_pooling2d_10 (MaxPooli  (None, 6, 25, 64)         0         \n",
      " ng2D)                                                           \n",
      "                                                                 \n",
      " dropout_15 (Dropout)        (None, 6, 25, 64)         0         \n",
      "                                                                 \n",
      " flatten_3 (Flatten)         (None, 9600)              0         \n",
      "                                                                 \n",
      " dense_6 (Dense)             (None, 10)                96010     \n",
      "                                                                 \n",
      "=================================================================\n",
      "Total params: 207434 (810.29 KB)\n",
      "Trainable params: 207434 (810.29 KB)\n",
      "Non-trainable params: 0 (0.00 Byte)\n",
      "_________________________________________________________________\n"
     ]
    }
   ],
   "source": [
    "# Building the model. Compiling\n",
    "# --------------\n",
    "# Loss: Categorical Cross Entropy, since we have one-hot vectors. \n",
    "\n",
    "model = models.Model(inputs = inputs, outputs=outputs)\n",
    "optimizer = optimizers.Adam(learning_rate = 0.001)\n",
    "model.compile(optimizer, loss=losses.CategoricalCrossentropy(), metrics=['accuracy'])\n",
    "model.summary()"
   ]
  },
  {
   "cell_type": "code",
   "execution_count": 29,
   "id": "68a9962c-f642-4972-b4f4-ae0c3633b8ec",
   "metadata": {},
   "outputs": [
    {
     "name": "stdout",
     "output_type": "stream",
     "text": [
      "Epoch 1/20\n",
      "450/450 [==============================] - 581s 1s/step - loss: 1.7915 - accuracy: 0.3533 - val_loss: 1.4131 - val_accuracy: 0.5139\n",
      "Epoch 2/20\n",
      "450/450 [==============================] - 533s 1s/step - loss: 1.2743 - accuracy: 0.5521 - val_loss: 1.1617 - val_accuracy: 0.5972\n",
      "Epoch 3/20\n",
      "450/450 [==============================] - 529s 1s/step - loss: 1.0190 - accuracy: 0.6472 - val_loss: 1.0613 - val_accuracy: 0.6239\n",
      "Epoch 4/20\n",
      "450/450 [==============================] - 530s 1s/step - loss: 0.8311 - accuracy: 0.7135 - val_loss: 0.8889 - val_accuracy: 0.7039\n",
      "Epoch 5/20\n",
      "450/450 [==============================] - 529s 1s/step - loss: 0.7009 - accuracy: 0.7570 - val_loss: 0.8033 - val_accuracy: 0.7489\n",
      "Epoch 6/20\n",
      "450/450 [==============================] - 527s 1s/step - loss: 0.5961 - accuracy: 0.7939 - val_loss: 0.7624 - val_accuracy: 0.7578\n",
      "Epoch 7/20\n",
      "450/450 [==============================] - 526s 1s/step - loss: 0.5239 - accuracy: 0.8175 - val_loss: 0.7469 - val_accuracy: 0.7761\n",
      "Epoch 8/20\n",
      "450/450 [==============================] - 526s 1s/step - loss: 0.4688 - accuracy: 0.8386 - val_loss: 0.7217 - val_accuracy: 0.7839\n",
      "Epoch 9/20\n",
      "450/450 [==============================] - 522s 1s/step - loss: 0.4412 - accuracy: 0.8460 - val_loss: 0.7464 - val_accuracy: 0.7772\n",
      "Epoch 10/20\n",
      "450/450 [==============================] - 622s 1s/step - loss: 0.4040 - accuracy: 0.8590 - val_loss: 0.6921 - val_accuracy: 0.8050\n",
      "Epoch 11/20\n",
      "450/450 [==============================] - 680s 2s/step - loss: 0.3659 - accuracy: 0.8742 - val_loss: 0.6976 - val_accuracy: 0.8017\n",
      "Epoch 12/20\n",
      "450/450 [==============================] - 685s 2s/step - loss: 0.3458 - accuracy: 0.8783 - val_loss: 0.6826 - val_accuracy: 0.8100\n",
      "Epoch 13/20\n",
      "450/450 [==============================] - 623s 1s/step - loss: 0.3339 - accuracy: 0.8840 - val_loss: 0.6610 - val_accuracy: 0.8172\n",
      "Epoch 14/20\n",
      "450/450 [==============================] - 528s 1s/step - loss: 0.3139 - accuracy: 0.8893 - val_loss: 0.6773 - val_accuracy: 0.8133\n",
      "Epoch 15/20\n",
      "450/450 [==============================] - 528s 1s/step - loss: 0.3068 - accuracy: 0.8935 - val_loss: 0.6725 - val_accuracy: 0.8239\n",
      "Epoch 16/20\n",
      "450/450 [==============================] - 531s 1s/step - loss: 0.2837 - accuracy: 0.9006 - val_loss: 0.7431 - val_accuracy: 0.7972\n",
      "Epoch 17/20\n",
      "450/450 [==============================] - 538s 1s/step - loss: 0.2793 - accuracy: 0.9031 - val_loss: 0.6387 - val_accuracy: 0.8300\n",
      "Epoch 18/20\n",
      "450/450 [==============================] - 530s 1s/step - loss: 0.2761 - accuracy: 0.9019 - val_loss: 0.7329 - val_accuracy: 0.8139\n",
      "Epoch 19/20\n",
      "450/450 [==============================] - 529s 1s/step - loss: 0.2695 - accuracy: 0.9057 - val_loss: 0.6669 - val_accuracy: 0.8278\n",
      "Epoch 20/20\n",
      "450/450 [==============================] - 534s 1s/step - loss: 0.2917 - accuracy: 0.9016 - val_loss: 0.6604 - val_accuracy: 0.8389\n"
     ]
    }
   ],
   "source": [
    "epochs = 20\n",
    "\n",
    "history = model.fit(x=x_train, \n",
    "                    y=y_train,\n",
    "                    validation_data=(x_val, y_val),\n",
    "                    epochs=epochs,\n",
    "                    shuffle=True)"
   ]
  },
  {
   "cell_type": "code",
   "execution_count": 33,
   "id": "ac31db20-178c-4439-ba92-ec3428c08dbb",
   "metadata": {},
   "outputs": [
    {
     "name": "stdout",
     "output_type": "stream",
     "text": [
      "57/57 [==============================] - 10s 173ms/step - loss: 0.5566 - accuracy: 0.8556\n"
     ]
    },
    {
     "data": {
      "text/plain": [
       "[0.5566216111183167, 0.855555534362793]"
      ]
     },
     "execution_count": 33,
     "metadata": {},
     "output_type": "execute_result"
    }
   ],
   "source": [
    "model.evaluate(x=x_test, y=y_test)"
   ]
  },
  {
   "cell_type": "code",
   "execution_count": 34,
   "id": "e5fc05bf-c354-4e24-b6b5-dd1c23035d13",
   "metadata": {},
   "outputs": [
    {
     "name": "stdout",
     "output_type": "stream",
     "text": [
      "57/57 [==============================] - 10s 164ms/step\n"
     ]
    },
    {
     "data": {
      "image/png": "[encoded data removed]",
      "text/plain": [
       "<Figure size 1000x800 with 2 Axes>"
      ]
     },
     "metadata": {},
     "output_type": "display_data"
    }
   ],
   "source": [
    "# HeatMap CNN64 filtered\n",
    "\n",
    "y_true = tf.argmax(y_test, axis=1)\n",
    "y_pred = tf.argmax(model.predict(x_test), axis=1)\n",
    "\n",
    "# Have to be 1-D vectors. Not one-hot encoded\n",
    "confusion_mtx = tf.math.confusion_matrix(y_true, y_pred) \n",
    "fig, ax = plt.subplots(figsize=(10, 8))\n",
    "sns.heatmap(confusion_mtx, xticklabels=labels, yticklabels=labels, \n",
    "            annot=True, fmt='g', ax=ax, cmap=\"viridis\", vmax=200)\n",
    "ax.set_xlabel('Prediction')\n",
    "ax.set_ylabel('Label')\n",
    "plt.savefig(\"D:/Master/ArtificialIntelligence/archive/Data/png/cnn64_confmatrix.png\", dpi=150)\n",
    "plt.show()"
   ]
  },
  {
   "cell_type": "code",
   "execution_count": 35,
   "id": "182493f6-b46c-4064-bccc-290f48d53b55",
   "metadata": {},
   "outputs": [
    {
     "name": "stdout",
     "output_type": "stream",
     "text": [
      "INFO:tensorflow:Assets written to: D:/Master/ArtificialIntelligence/archive/Data/models/model1\\assets\n"
     ]
    },
    {
     "name": "stderr",
     "output_type": "stream",
     "text": [
      "INFO:tensorflow:Assets written to: D:/Master/ArtificialIntelligence/archive/Data/models/model1\\assets\n"
     ]
    }
   ],
   "source": [
    "model.save('D:/Master/ArtificialIntelligence/archive/Data/models/model1')"
   ]
  },
  {
   "cell_type": "code",
   "execution_count": 38,
   "id": "fb274aeb-cc0a-4544-b1c8-9c2373de720f",
   "metadata": {},
   "outputs": [
    {
     "data": {
      "image/png": "[encoded data removed]",
      "text/plain": [
       "<Figure size 500x400 with 1 Axes>"
      ]
     },
     "metadata": {},
     "output_type": "display_data"
    }
   ],
   "source": [
    "epochs = 20\n",
    "hist_acc = history.history['accuracy'] \n",
    "hist_val_acc = history.history['val_accuracy'] \n",
    "\n",
    "fig, ax = plt.subplots(figsize=(5,4))\n",
    "ax.plot(range(epochs), hist_acc, label='accuracy', lw=1.25)\n",
    "ax.plot(range(epochs), hist_val_acc, label='val accuracy', lw=1.25)\n",
    "ax.set_xlabel('Epochs')\n",
    "ax.set_ylabel('Accuracy')\n",
    "ax.set_xticks([i for i in range(0, epochs+1,4)])\n",
    "ax.legend()\n",
    "plt.savefig(\"D:/Master/ArtificialIntelligence/archive/Data/png/cnn64_acc_epochs.png\", dpi=150)\n",
    "\n",
    "plt.show()"
   ]
  }
 ],
 "metadata": {
  "kernelspec": {
   "display_name": "Python 3 (ipykernel)",
   "language": "python",
   "name": "python3"
  },
  "language_info": {
   "codemirror_mode": {
    "name": "ipython",
    "version": 3
   },
   "file_extension": ".py",
   "mimetype": "text/x-python",
   "name": "python",
   "nbconvert_exporter": "python",
   "pygments_lexer": "ipython3",
   "version": "3.11.3"
  }
 },
 "nbformat": 4,
 "nbformat_minor": 5
}
